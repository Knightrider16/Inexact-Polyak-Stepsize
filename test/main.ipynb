{
 "cells": [
  {
   "cell_type": "code",
   "execution_count": 304,
   "metadata": {},
   "outputs": [],
   "source": [
    "import torch\n",
    "import torch.nn as nn\n",
    "import torch.optim as optim\n",
    "import torch.nn.functional as F\n",
    "import torchvision\n",
    "import torchvision.transforms as transforms\n",
    "from sklearn.metrics import accuracy_score\n",
    "import matplotlib.pyplot as plt"
   ]
  },
  {
   "cell_type": "code",
   "execution_count": 305,
   "metadata": {},
   "outputs": [],
   "source": [
    "class Model(nn.Module):\n",
    "    \n",
    "    def __init__(self, *args, **kwargs):\n",
    "        super(Model, self).__init__(*args, **kwargs)\n",
    "        \n",
    "        self.fc1 = nn.Linear(10, 10)"
   ]
  },
  {
   "cell_type": "code",
   "execution_count": 306,
   "metadata": {},
   "outputs": [],
   "source": [
    "class IPS(optim.Optimizer):\n",
    "    def __init__(self, model_params, T, lower_bound, step_decay=False):\n",
    "        \n",
    "        defaults = dict(T=T, lower_bound=lower_bound, step_decay=step_decay)\n",
    "        \n",
    "        super(IPS, self).__init__(model_params, defaults)\n",
    "        \n",
    "        self.best_loss = float('inf')\n",
    "        self.best_params = None\n",
    "        self.step_count = 0\n",
    "        \n",
    "        \n",
    "    @torch.no_grad()\n",
    "    def step(self, closure=None):\n",
    "        \n",
    "        self.step_count += 1\n",
    "        if closure is not None:\n",
    "            with torch.enable_grad():\n",
    "                rtloss = closure()\n",
    "                loss = rtloss.item()\n",
    "                \n",
    "        for group in self.param_groups:\n",
    "            T = group['T']\n",
    "            l_star = group['lower_bound']\n",
    "            step_decay = group['step_decay']\n",
    "            # boost convergence during initial stages\n",
    "            current_t = min(self.step_count, T)\n",
    "            \n",
    "            for param in group['params']:\n",
    "                if param.grad is None:\n",
    "                    continue\n",
    "                \n",
    "                grad = param.grad.data\n",
    "                grad_norm_sq = torch.sum(grad ** 2) + 1e-8\n",
    "                \n",
    "                inexact_step_size = (loss - l_star) / (grad_norm_sq * ((current_t if step_decay else T) ** 0.5))\n",
    "                \n",
    "                # important, since we're using incremental stepsize without clamping gradient explodes\n",
    "                # especially true in earlier steps\n",
    "                inexact_step_size = torch.clamp(inexact_step_size, min=0.0, max=1.0)\n",
    "                param.data.add_(grad, alpha=-inexact_step_size)\n",
    "                \n",
    "        if loss < self.best_loss:\n",
    "            self.best_loss = loss\n",
    "            self.best_params = [p.clone().detach() for p in self.param_groups[0]['params']]\n",
    "                \n",
    "        return rtloss\n",
    "    \n",
    "    def load_best_params(self):\n",
    "        if self.best_params:\n",
    "            for param, best_param in zip(self.param_groups[0]['params'], self.best_params):\n",
    "                param.data.copy_(best_param)\n",
    "                "
   ]
  },
  {
   "cell_type": "code",
   "execution_count": 307,
   "metadata": {},
   "outputs": [],
   "source": [
    "# Device setup\n",
    "device = torch.device('cuda' if torch.cuda.is_available() else 'cpu')\n",
    "\n",
    "class SimpleNN(nn.Module):\n",
    "    def __init__(self):\n",
    "        super(SimpleNN, self).__init__()\n",
    "        self.fc1 = nn.Linear(28*28, 128)\n",
    "        self.fc2 = nn.Linear(128, 64)\n",
    "        self.fc3 = nn.Linear(64, 32)\n",
    "        self.fc4 = nn.Linear(32, 10)\n",
    "        \n",
    "        self.losses = []\n",
    "        \n",
    "\n",
    "    def forward(self, x):\n",
    "        x = x.view(-1, 28*28).float()\n",
    "        x = F.relu(self.fc1(x))\n",
    "        x = F.relu(self.fc2(x))\n",
    "        x = F.relu(self.fc3(x))\n",
    "        return self.fc4(x)"
   ]
  },
  {
   "cell_type": "code",
   "execution_count": 308,
   "metadata": {},
   "outputs": [],
   "source": [
    "epochs = 5\n",
    "batch_size = 64"
   ]
  },
  {
   "cell_type": "code",
   "execution_count": 309,
   "metadata": {},
   "outputs": [],
   "source": [
    "transform = transforms.Compose([transforms.ToTensor(), transforms.Normalize((0.5,), (0.5,))])\n",
    "trainset = torchvision.datasets.MNIST(root='./data', train=True, download=True, transform=transform)\n",
    "testset = torchvision.datasets.MNIST(root='./data', train=False, download=True, transform=transform)\n",
    "\n",
    "trainloader = torch.utils.data.DataLoader(trainset, batch_size=batch_size, shuffle=True)\n",
    "testloader = torch.utils.data.DataLoader(testset, batch_size=len(trainset), shuffle=True)"
   ]
  },
  {
   "cell_type": "code",
   "execution_count": 310,
   "metadata": {},
   "outputs": [],
   "source": [
    "def train(model, optimizer, epochs=2):\n",
    "    print(optimizer)\n",
    "    criterion = nn.CrossEntropyLoss()\n",
    "    optimizer = optimizer\n",
    "\n",
    "    num_epochs = epochs\n",
    "    for epoch in range(num_epochs):\n",
    "        for i, (inputs, labels) in enumerate(trainloader):\n",
    "            inputs, labels = inputs.to(device), labels.to(device)\n",
    "\n",
    "            def closure():\n",
    "                optimizer.zero_grad()\n",
    "                outputs = model(inputs)\n",
    "                loss = criterion(outputs, labels)\n",
    "                loss.backward()\n",
    "                return loss\n",
    "\n",
    "            loss = optimizer.step(closure)\n",
    "\n",
    "            if i % 100 == 0:\n",
    "                print(f'Epoch {epoch+1}, Step {i}, Loss: {loss}')\n",
    "            model.losses.append(loss.item())\n",
    "\n",
    "    print(\"Training complete.\")\n",
    "    return model"
   ]
  },
  {
   "cell_type": "code",
   "execution_count": 311,
   "metadata": {},
   "outputs": [],
   "source": [
    "def test(model):\n",
    "    for i, (inputs, labels) in enumerate(testloader):\n",
    "        output = model(inputs)\n",
    "        output = output.argmax(axis=1)\n",
    "        print(accuracy_score(labels, output.detach().numpy()))"
   ]
  },
  {
   "cell_type": "code",
   "execution_count": 312,
   "metadata": {},
   "outputs": [
    {
     "name": "stdout",
     "output_type": "stream",
     "text": [
      "IPS (\n",
      "Parameter Group 0\n",
      "    T: 4685\n",
      "    lower_bound: 0\n",
      "    step_decay: False\n",
      ")\n",
      "Epoch 1, Step 0, Loss: 2.3323700428009033\n",
      "Epoch 1, Step 100, Loss: 1.2514376640319824\n",
      "Epoch 1, Step 200, Loss: 0.8992899060249329\n",
      "Epoch 1, Step 300, Loss: 0.8861379623413086\n",
      "Epoch 1, Step 400, Loss: 0.783453643321991\n",
      "Epoch 1, Step 500, Loss: 0.7206271290779114\n",
      "Epoch 1, Step 600, Loss: 0.7610554695129395\n",
      "Epoch 1, Step 700, Loss: 0.6681711077690125\n",
      "Epoch 1, Step 800, Loss: 0.5867195129394531\n",
      "Epoch 1, Step 900, Loss: 0.5503873229026794\n",
      "Epoch 2, Step 0, Loss: 0.5651253461837769\n",
      "Epoch 2, Step 100, Loss: 0.42727625370025635\n",
      "Epoch 2, Step 200, Loss: 0.73529052734375\n",
      "Epoch 2, Step 300, Loss: 0.5820925235748291\n",
      "Epoch 2, Step 400, Loss: 0.5584347248077393\n",
      "Epoch 2, Step 500, Loss: 0.3354896306991577\n",
      "Epoch 2, Step 600, Loss: 0.3265758752822876\n",
      "Epoch 2, Step 700, Loss: 0.7519723176956177\n",
      "Epoch 2, Step 800, Loss: 0.3186243176460266\n",
      "Epoch 2, Step 900, Loss: 0.4730154275894165\n",
      "Epoch 3, Step 0, Loss: 0.35509809851646423\n",
      "Epoch 3, Step 100, Loss: 0.30309924483299255\n",
      "Epoch 3, Step 200, Loss: 0.6537647247314453\n",
      "Epoch 3, Step 300, Loss: 0.49422821402549744\n",
      "Epoch 3, Step 400, Loss: 0.3578864336013794\n",
      "Epoch 3, Step 500, Loss: 0.5023905634880066\n",
      "Epoch 3, Step 600, Loss: 0.48110276460647583\n",
      "Epoch 3, Step 700, Loss: 0.49256137013435364\n",
      "Epoch 3, Step 800, Loss: 0.24199792742729187\n",
      "Epoch 3, Step 900, Loss: 0.38471218943595886\n",
      "Epoch 4, Step 0, Loss: 0.5591341853141785\n",
      "Epoch 4, Step 100, Loss: 0.34847772121429443\n",
      "Epoch 4, Step 200, Loss: 0.4134763777256012\n",
      "Epoch 4, Step 300, Loss: 0.362602561712265\n",
      "Epoch 4, Step 400, Loss: 0.31259673833847046\n",
      "Epoch 4, Step 500, Loss: 0.3410579562187195\n",
      "Epoch 4, Step 600, Loss: 0.5064764022827148\n",
      "Epoch 4, Step 700, Loss: 0.282915860414505\n",
      "Epoch 4, Step 800, Loss: 0.49960246682167053\n",
      "Epoch 4, Step 900, Loss: 0.5120095610618591\n",
      "Epoch 5, Step 0, Loss: 0.326602578163147\n",
      "Epoch 5, Step 100, Loss: 0.47420012950897217\n",
      "Epoch 5, Step 200, Loss: 0.5480663776397705\n",
      "Epoch 5, Step 300, Loss: 0.32790929079055786\n",
      "Epoch 5, Step 400, Loss: 0.4439142048358917\n",
      "Epoch 5, Step 500, Loss: 0.41577330231666565\n",
      "Epoch 5, Step 600, Loss: 0.2031792849302292\n",
      "Epoch 5, Step 700, Loss: 0.3412300944328308\n",
      "Epoch 5, Step 800, Loss: 0.28724369406700134\n",
      "Epoch 5, Step 900, Loss: 0.427912175655365\n",
      "Training complete.\n"
     ]
    },
    {
     "data": {
      "text/plain": [
       "SimpleNN(\n",
       "  (fc1): Linear(in_features=784, out_features=128, bias=True)\n",
       "  (fc2): Linear(in_features=128, out_features=64, bias=True)\n",
       "  (fc3): Linear(in_features=64, out_features=32, bias=True)\n",
       "  (fc4): Linear(in_features=32, out_features=10, bias=True)\n",
       ")"
      ]
     },
     "execution_count": 312,
     "metadata": {},
     "output_type": "execute_result"
    }
   ],
   "source": [
    "ipsModel = SimpleNN().to(device)\n",
    "ipsOptimizer = IPS(ipsModel.parameters(), T=epochs * int(len(trainset) / batch_size), lower_bound=0)\n",
    "train(ipsModel, ipsOptimizer, epochs=epochs)"
   ]
  },
  {
   "cell_type": "code",
   "execution_count": 313,
   "metadata": {},
   "outputs": [
    {
     "name": "stdout",
     "output_type": "stream",
     "text": [
      "Adam (\n",
      "Parameter Group 0\n",
      "    amsgrad: False\n",
      "    betas: (0.9, 0.999)\n",
      "    capturable: False\n",
      "    differentiable: False\n",
      "    eps: 1e-08\n",
      "    foreach: None\n",
      "    fused: None\n",
      "    lr: 0.001\n",
      "    maximize: False\n",
      "    weight_decay: 0\n",
      ")\n",
      "Epoch 1, Step 0, Loss: 2.342897653579712\n",
      "Epoch 1, Step 100, Loss: 0.5884782671928406\n",
      "Epoch 1, Step 200, Loss: 0.7082030773162842\n",
      "Epoch 1, Step 300, Loss: 0.6385774612426758\n",
      "Epoch 1, Step 400, Loss: 0.42529788613319397\n",
      "Epoch 1, Step 500, Loss: 0.44073235988616943\n",
      "Epoch 1, Step 600, Loss: 0.5934127569198608\n",
      "Epoch 1, Step 700, Loss: 0.4266235828399658\n",
      "Epoch 1, Step 800, Loss: 0.36409318447113037\n",
      "Epoch 1, Step 900, Loss: 0.13610471785068512\n",
      "Epoch 2, Step 0, Loss: 0.4211399257183075\n",
      "Epoch 2, Step 100, Loss: 0.25667187571525574\n",
      "Epoch 2, Step 200, Loss: 0.18906165659427643\n",
      "Epoch 2, Step 300, Loss: 0.2258758395910263\n",
      "Epoch 2, Step 400, Loss: 0.13843880593776703\n",
      "Epoch 2, Step 500, Loss: 0.3727230727672577\n",
      "Epoch 2, Step 600, Loss: 0.16297730803489685\n",
      "Epoch 2, Step 700, Loss: 0.13822562992572784\n",
      "Epoch 2, Step 800, Loss: 0.18527181446552277\n",
      "Epoch 2, Step 900, Loss: 0.2669881582260132\n",
      "Epoch 3, Step 0, Loss: 0.23878249526023865\n",
      "Epoch 3, Step 100, Loss: 0.09991361945867538\n",
      "Epoch 3, Step 200, Loss: 0.05712319537997246\n",
      "Epoch 3, Step 300, Loss: 0.1373106688261032\n",
      "Epoch 3, Step 400, Loss: 0.04294000193476677\n",
      "Epoch 3, Step 500, Loss: 0.1710004061460495\n",
      "Epoch 3, Step 600, Loss: 0.2219262570142746\n",
      "Epoch 3, Step 700, Loss: 0.17308415472507477\n",
      "Epoch 3, Step 800, Loss: 0.1117740347981453\n",
      "Epoch 3, Step 900, Loss: 0.03560515120625496\n",
      "Epoch 4, Step 0, Loss: 0.12340115755796432\n",
      "Epoch 4, Step 100, Loss: 0.10073599964380264\n",
      "Epoch 4, Step 200, Loss: 0.12838372588157654\n",
      "Epoch 4, Step 300, Loss: 0.11558670550584793\n",
      "Epoch 4, Step 400, Loss: 0.04188809171319008\n",
      "Epoch 4, Step 500, Loss: 0.05414362996816635\n",
      "Epoch 4, Step 600, Loss: 0.04182909056544304\n",
      "Epoch 4, Step 700, Loss: 0.1258242428302765\n",
      "Epoch 4, Step 800, Loss: 0.1459914743900299\n",
      "Epoch 4, Step 900, Loss: 0.11119407415390015\n",
      "Epoch 5, Step 0, Loss: 0.020423226058483124\n",
      "Epoch 5, Step 100, Loss: 0.05146148055791855\n",
      "Epoch 5, Step 200, Loss: 0.06738130748271942\n",
      "Epoch 5, Step 300, Loss: 0.0794084370136261\n",
      "Epoch 5, Step 400, Loss: 0.0847187340259552\n",
      "Epoch 5, Step 500, Loss: 0.06233537197113037\n",
      "Epoch 5, Step 600, Loss: 0.11057568341493607\n",
      "Epoch 5, Step 700, Loss: 0.06942836940288544\n",
      "Epoch 5, Step 800, Loss: 0.14858372509479523\n",
      "Epoch 5, Step 900, Loss: 0.07392208278179169\n",
      "Training complete.\n"
     ]
    },
    {
     "data": {
      "text/plain": [
       "SimpleNN(\n",
       "  (fc1): Linear(in_features=784, out_features=128, bias=True)\n",
       "  (fc2): Linear(in_features=128, out_features=64, bias=True)\n",
       "  (fc3): Linear(in_features=64, out_features=32, bias=True)\n",
       "  (fc4): Linear(in_features=32, out_features=10, bias=True)\n",
       ")"
      ]
     },
     "execution_count": 313,
     "metadata": {},
     "output_type": "execute_result"
    }
   ],
   "source": [
    "adamModel = SimpleNN().to(device)\n",
    "adamOptimizer = torch.optim.Adam(adamModel.parameters(), lr=1e-3)\n",
    "train(adamModel, adamOptimizer, epochs=epochs)\n"
   ]
  },
  {
   "cell_type": "code",
   "execution_count": 314,
   "metadata": {},
   "outputs": [
    {
     "name": "stdout",
     "output_type": "stream",
     "text": [
      "IPS (\n",
      "Parameter Group 0\n",
      "    T: 1875.0\n",
      "    lower_bound: 0\n",
      "    step_decay: True\n",
      ")\n",
      "Epoch 1, Step 0, Loss: 2.317638874053955\n",
      "Epoch 1, Step 100, Loss: 0.723345160484314\n",
      "Epoch 1, Step 200, Loss: 0.559515655040741\n",
      "Epoch 1, Step 300, Loss: 0.4944891035556793\n",
      "Epoch 1, Step 400, Loss: 0.2858579754829407\n",
      "Epoch 1, Step 500, Loss: 0.5493990778923035\n",
      "Epoch 1, Step 600, Loss: 0.16796645522117615\n",
      "Epoch 1, Step 700, Loss: 0.2619359493255615\n",
      "Epoch 1, Step 800, Loss: 0.3835146725177765\n",
      "Epoch 1, Step 900, Loss: 0.4322618544101715\n",
      "Epoch 2, Step 0, Loss: 0.4486277401447296\n",
      "Epoch 2, Step 100, Loss: 0.5237789750099182\n",
      "Epoch 2, Step 200, Loss: 0.13037161529064178\n",
      "Epoch 2, Step 300, Loss: 0.2834920585155487\n",
      "Epoch 2, Step 400, Loss: 0.31715288758277893\n",
      "Epoch 2, Step 500, Loss: 0.45151007175445557\n",
      "Epoch 2, Step 600, Loss: 0.23667672276496887\n",
      "Epoch 2, Step 700, Loss: 0.1563539206981659\n",
      "Epoch 2, Step 800, Loss: 0.41424357891082764\n",
      "Epoch 2, Step 900, Loss: 0.23136119544506073\n",
      "Epoch 3, Step 0, Loss: 0.3750683665275574\n",
      "Epoch 3, Step 100, Loss: 0.22199855744838715\n",
      "Epoch 3, Step 200, Loss: 0.41214144229888916\n",
      "Epoch 3, Step 300, Loss: 0.16790467500686646\n",
      "Epoch 3, Step 400, Loss: 0.21945272386074066\n",
      "Epoch 3, Step 500, Loss: 0.28340837359428406\n",
      "Epoch 3, Step 600, Loss: 0.2466505467891693\n",
      "Epoch 3, Step 700, Loss: 0.2140258103609085\n",
      "Epoch 3, Step 800, Loss: 0.39834997057914734\n",
      "Epoch 3, Step 900, Loss: 0.2534220814704895\n",
      "Epoch 4, Step 0, Loss: 0.20882536470890045\n",
      "Epoch 4, Step 100, Loss: 0.45089367032051086\n",
      "Epoch 4, Step 200, Loss: 0.18714570999145508\n",
      "Epoch 4, Step 300, Loss: 0.3019128739833832\n",
      "Epoch 4, Step 400, Loss: 0.3549538552761078\n",
      "Epoch 4, Step 500, Loss: 0.27204328775405884\n",
      "Epoch 4, Step 600, Loss: 0.1546313762664795\n",
      "Epoch 4, Step 700, Loss: 0.28722891211509705\n",
      "Epoch 4, Step 800, Loss: 0.19955667853355408\n",
      "Epoch 4, Step 900, Loss: 0.27975723147392273\n",
      "Epoch 5, Step 0, Loss: 0.3235161304473877\n",
      "Epoch 5, Step 100, Loss: 0.34478580951690674\n",
      "Epoch 5, Step 200, Loss: 0.13028201460838318\n",
      "Epoch 5, Step 300, Loss: 0.412306547164917\n",
      "Epoch 5, Step 400, Loss: 0.2425212860107422\n",
      "Epoch 5, Step 500, Loss: 0.13888543844223022\n",
      "Epoch 5, Step 600, Loss: 0.3920673131942749\n",
      "Epoch 5, Step 700, Loss: 0.32758498191833496\n",
      "Epoch 5, Step 800, Loss: 0.1359325647354126\n",
      "Epoch 5, Step 900, Loss: 0.3191595673561096\n",
      "Training complete.\n"
     ]
    },
    {
     "data": {
      "text/plain": [
       "SimpleNN(\n",
       "  (fc1): Linear(in_features=784, out_features=128, bias=True)\n",
       "  (fc2): Linear(in_features=128, out_features=64, bias=True)\n",
       "  (fc3): Linear(in_features=64, out_features=32, bias=True)\n",
       "  (fc4): Linear(in_features=32, out_features=10, bias=True)\n",
       ")"
      ]
     },
     "execution_count": 314,
     "metadata": {},
     "output_type": "execute_result"
    }
   ],
   "source": [
    "ipsDecayModel = SimpleNN().to(device)\n",
    "ipsDecayOptimizer = IPS(ipsDecayModel.parameters(), T=2 * len(trainset) / 64, lower_bound=0, step_decay=True)\n",
    "train(ipsDecayModel, ipsDecayOptimizer, epochs=epochs)\n"
   ]
  },
  {
   "cell_type": "code",
   "execution_count": 318,
   "metadata": {},
   "outputs": [
    {
     "name": "stdout",
     "output_type": "stream",
     "text": [
      "0.9583\n",
      "0.894\n",
      "0.9237\n"
     ]
    }
   ],
   "source": [
    "test(adamModel)\n",
    "test(ipsModel)\n",
    "test(ipsDecayModel)"
   ]
  },
  {
   "cell_type": "code",
   "execution_count": 316,
   "metadata": {},
   "outputs": [
    {
     "data": {
      "image/png": "[encoded data removed]",
      "text/plain": [
       "<Figure size 640x480 with 1 Axes>"
      ]
     },
     "metadata": {},
     "output_type": "display_data"
    }
   ],
   "source": [
    "models = [(adamModel, 'adam optimizer'), (ipsModel, 'ips optimizer'), (ipsDecayModel, 'ips decay optimizer')]\n",
    "focus = [ipsDecayModel, adamModel]\n",
    "interval = 50\n",
    "for model in models:\n",
    "    plt.plot(\n",
    "        [i for i, loss in enumerate(model[0].losses) if i % interval == 0], \n",
    "        [loss for i, loss in enumerate(model[0].losses) if i % interval == 0], \n",
    "        label=model[1],\n",
    "        alpha=0.5 if model[0] not in focus else 1\n",
    "    )\n",
    "\n",
    "plt.legend()\n",
    "plt.show()"
   ]
  },
  {
   "cell_type": "code",
   "execution_count": 317,
   "metadata": {},
   "outputs": [
    {
     "data": {
      "text/plain": [
       "2.0010666666666665"
      ]
     },
     "execution_count": 317,
     "metadata": {},
     "output_type": "execute_result"
    }
   ],
   "source": [
    "(len(trainset) / 64) * 2\n",
    "ipsOptimizer.step_count\n",
    "1876/(len(trainset) / 64)"
   ]
  }
 ],
 "metadata": {
  "kernelspec": {
   "display_name": "Python 3",
   "language": "python",
   "name": "python3"
  },
  "language_info": {
   "codemirror_mode": {
    "name": "ipython",
    "version": 3
   },
   "file_extension": ".py",
   "mimetype": "text/x-python",
   "name": "python",
   "nbconvert_exporter": "python",
   "pygments_lexer": "ipython3",
   "version": "3.11.1"
  }
 },
 "nbformat": 4,
 "nbformat_minor": 2
}
