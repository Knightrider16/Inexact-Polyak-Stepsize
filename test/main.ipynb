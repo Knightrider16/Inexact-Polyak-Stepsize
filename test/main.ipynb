{
 "cells": [
  {
   "cell_type": "code",
   "execution_count": 1,
   "metadata": {},
   "outputs": [],
   "source": [
    "import torch\n",
    "import torch.nn as nn\n",
    "import torch.optim as optim\n",
    "import torch.nn.functional as F\n",
    "import torchvision\n",
    "import torchvision.transforms as transforms\n",
    "from sklearn.metrics import accuracy_score\n",
    "import matplotlib.pyplot as plt"
   ]
  },
  {
   "cell_type": "code",
   "execution_count": 2,
   "metadata": {},
   "outputs": [],
   "source": [
    "class Model(nn.Module):\n",
    "    \n",
    "    def __init__(self, *args, **kwargs):\n",
    "        super(Model, self).__init__(*args, **kwargs)\n",
    "        \n",
    "        self.fc1 = nn.Linear(10, 10)"
   ]
  },
  {
   "cell_type": "code",
   "execution_count": 3,
   "metadata": {},
   "outputs": [],
   "source": [
    "class IPS(optim.Optimizer):\n",
    "    def __init__(self, model_params, T, lower_bound, step_decay=False, initial_decay=0):\n",
    "        \n",
    "        defaults = dict(T=T, lower_bound=lower_bound, step_decay=step_decay)\n",
    "        \n",
    "        super(IPS, self).__init__(model_params, defaults)\n",
    "        \n",
    "        self.best_loss = float('inf')\n",
    "        self.best_params = None\n",
    "        self.step_count = T * initial_decay\n",
    "        \n",
    "        \n",
    "    @torch.no_grad()\n",
    "    def step(self, closure=None):\n",
    "        \n",
    "        self.step_count += 1\n",
    "        if closure is not None:\n",
    "            with torch.enable_grad():\n",
    "                rtloss = closure()\n",
    "                loss = rtloss.item()\n",
    "                \n",
    "        for group in self.param_groups:\n",
    "            T = group['T']\n",
    "            l_star = group['lower_bound']\n",
    "            step_decay = group['step_decay']\n",
    "            # boost convergence during initial stages\n",
    "            current_t = min(self.step_count, T)\n",
    "            \n",
    "            for param in group['params']:\n",
    "                if param.grad is None:\n",
    "                    continue\n",
    "                \n",
    "                grad = param.grad.data\n",
    "                grad_norm_sq = torch.sum(grad ** 2) + 1e-8\n",
    "                \n",
    "                inexact_step_size = (loss - l_star) / (grad_norm_sq * ((current_t if step_decay else T) ** 0.5))\n",
    "                \n",
    "                # important, since we're using incremental stepsize without clamping gradient explodes\n",
    "                # especially true in earlier steps\n",
    "                inexact_step_size = torch.clamp(inexact_step_size, min=0.0, max=1.0)\n",
    "                param.data.add_(grad, alpha=-inexact_step_size)\n",
    "                \n",
    "        if loss < self.best_loss:\n",
    "            self.best_loss = loss\n",
    "            self.best_params = [p.clone().detach() for p in self.param_groups[0]['params']]\n",
    "                \n",
    "        return rtloss\n",
    "    \n",
    "    def load_best_params(self):\n",
    "        if self.best_params:\n",
    "            for param, best_param in zip(self.param_groups[0]['params'], self.best_params):\n",
    "                param.data.copy_(best_param)\n",
    "                "
   ]
  },
  {
   "cell_type": "code",
   "execution_count": 4,
   "metadata": {},
   "outputs": [],
   "source": [
    "# Device setup\n",
    "device = torch.device('cuda' if torch.cuda.is_available() else 'cpu')\n",
    "\n",
    "class SimpleNN(nn.Module):\n",
    "    def __init__(self):\n",
    "        super(SimpleNN, self).__init__()\n",
    "        self.fc1 = nn.Linear(28*28, 128)\n",
    "        self.fc2 = nn.Linear(128, 64)\n",
    "        self.fc3 = nn.Linear(64, 32)\n",
    "        self.fc4 = nn.Linear(32, 10)\n",
    "        \n",
    "        self.losses = []\n",
    "        \n",
    "\n",
    "    def forward(self, x):\n",
    "        x = x.view(-1, 28*28).float()\n",
    "        x = F.relu(self.fc1(x))\n",
    "        x = F.relu(self.fc2(x))\n",
    "        x = F.relu(self.fc3(x))\n",
    "        return self.fc4(x)"
   ]
  },
  {
   "cell_type": "code",
   "execution_count": 5,
   "metadata": {},
   "outputs": [],
   "source": [
    "epochs = 5\n",
    "batch_size = 64"
   ]
  },
  {
   "cell_type": "code",
   "execution_count": 6,
   "metadata": {},
   "outputs": [],
   "source": [
    "transform = transforms.Compose([transforms.ToTensor(), transforms.Normalize((0.1307,), (0.3081,))])\n",
    "trainset = torchvision.datasets.MNIST(root='./data', train=True, download=True, transform=transform)\n",
    "testset = torchvision.datasets.MNIST(root='./data', train=False, download=True, transform=transform)\n",
    "\n",
    "trainloader = torch.utils.data.DataLoader(trainset, batch_size=batch_size, shuffle=True)\n",
    "testloader = torch.utils.data.DataLoader(testset, batch_size=len(trainset), shuffle=True)"
   ]
  },
  {
   "cell_type": "code",
   "execution_count": 7,
   "metadata": {},
   "outputs": [],
   "source": [
    "def train(model, optimizer, epochs=2):\n",
    "    print(optimizer)\n",
    "    criterion = nn.CrossEntropyLoss()\n",
    "    optimizer = optimizer\n",
    "\n",
    "    num_epochs = epochs\n",
    "    for epoch in range(num_epochs):\n",
    "        for i, (inputs, labels) in enumerate(trainloader):\n",
    "            inputs, labels = inputs.to(device), labels.to(device)\n",
    "\n",
    "            def closure():\n",
    "                optimizer.zero_grad()\n",
    "                outputs = model(inputs)\n",
    "                loss = criterion(outputs, labels)\n",
    "                loss.backward()\n",
    "                return loss\n",
    "\n",
    "            loss = optimizer.step(closure)\n",
    "\n",
    "            if i % 100 == 0:\n",
    "                print(f'Epoch {epoch+1}, Step {i}, Loss: {loss}')\n",
    "            model.losses.append(loss.item())\n",
    "\n",
    "    print(\"Training complete.\")\n",
    "    return model"
   ]
  },
  {
   "cell_type": "code",
   "execution_count": 8,
   "metadata": {},
   "outputs": [],
   "source": [
    "def test(model):\n",
    "    for i, (inputs, labels) in enumerate(testloader):\n",
    "        output = model(inputs)\n",
    "        output = output.argmax(axis=1)\n",
    "        print(accuracy_score(labels, output.detach().numpy()))"
   ]
  },
  {
   "cell_type": "code",
   "execution_count": 9,
   "metadata": {},
   "outputs": [
    {
     "name": "stdout",
     "output_type": "stream",
     "text": [
      "IPS (\n",
      "Parameter Group 0\n",
      "    T: 4685\n",
      "    lower_bound: 0\n",
      "    step_decay: False\n",
      ")\n",
      "Epoch 1, Step 0, Loss: 2.335564136505127\n",
      "Epoch 1, Step 100, Loss: 0.8774015307426453\n",
      "Epoch 1, Step 200, Loss: 0.637464165687561\n",
      "Epoch 1, Step 300, Loss: 0.5307324528694153\n",
      "Epoch 1, Step 400, Loss: 0.545235276222229\n",
      "Epoch 1, Step 500, Loss: 0.6288704872131348\n",
      "Epoch 1, Step 600, Loss: 0.3590703308582306\n",
      "Epoch 1, Step 700, Loss: 0.4415912926197052\n",
      "Epoch 1, Step 800, Loss: 0.5872707366943359\n",
      "Epoch 1, Step 900, Loss: 0.6488351225852966\n",
      "Epoch 2, Step 0, Loss: 0.42824381589889526\n",
      "Epoch 2, Step 100, Loss: 0.44921910762786865\n",
      "Epoch 2, Step 200, Loss: 0.38583046197891235\n",
      "Epoch 2, Step 300, Loss: 0.2128387838602066\n",
      "Epoch 2, Step 400, Loss: 0.7003639936447144\n",
      "Epoch 2, Step 500, Loss: 0.266439288854599\n",
      "Epoch 2, Step 600, Loss: 0.3020223379135132\n",
      "Epoch 2, Step 700, Loss: 0.44789671897888184\n",
      "Epoch 2, Step 800, Loss: 0.3767017424106598\n",
      "Epoch 2, Step 900, Loss: 0.3158453404903412\n",
      "Epoch 3, Step 0, Loss: 0.17978151142597198\n",
      "Epoch 3, Step 100, Loss: 0.33785173296928406\n",
      "Epoch 3, Step 200, Loss: 0.29551202058792114\n",
      "Epoch 3, Step 300, Loss: 0.35877811908721924\n",
      "Epoch 3, Step 400, Loss: 0.3817417025566101\n",
      "Epoch 3, Step 500, Loss: 0.3770616948604584\n",
      "Epoch 3, Step 600, Loss: 0.19446967542171478\n",
      "Epoch 3, Step 700, Loss: 0.19575293362140656\n",
      "Epoch 3, Step 800, Loss: 0.2378554493188858\n",
      "Epoch 3, Step 900, Loss: 0.3643167018890381\n",
      "Epoch 4, Step 0, Loss: 0.27016717195510864\n",
      "Epoch 4, Step 100, Loss: 0.32612890005111694\n",
      "Epoch 4, Step 200, Loss: 0.4479391574859619\n",
      "Epoch 4, Step 300, Loss: 0.2043062299489975\n",
      "Epoch 4, Step 400, Loss: 0.29857611656188965\n",
      "Epoch 4, Step 500, Loss: 0.28446295857429504\n",
      "Epoch 4, Step 600, Loss: 0.2474214732646942\n",
      "Epoch 4, Step 700, Loss: 0.2955192029476166\n",
      "Epoch 4, Step 800, Loss: 0.26217368245124817\n",
      "Epoch 4, Step 900, Loss: 0.3626517951488495\n",
      "Epoch 5, Step 0, Loss: 0.2869250774383545\n",
      "Epoch 5, Step 100, Loss: 0.14063048362731934\n",
      "Epoch 5, Step 200, Loss: 0.28314703702926636\n",
      "Epoch 5, Step 300, Loss: 0.1748712807893753\n",
      "Epoch 5, Step 400, Loss: 0.18226510286331177\n",
      "Epoch 5, Step 500, Loss: 0.3247721195220947\n",
      "Epoch 5, Step 600, Loss: 0.13734596967697144\n",
      "Epoch 5, Step 700, Loss: 0.1837349683046341\n",
      "Epoch 5, Step 800, Loss: 0.40912923216819763\n",
      "Epoch 5, Step 900, Loss: 0.15179401636123657\n",
      "Training complete.\n"
     ]
    },
    {
     "data": {
      "text/plain": [
       "SimpleNN(\n",
       "  (fc1): Linear(in_features=784, out_features=128, bias=True)\n",
       "  (fc2): Linear(in_features=128, out_features=64, bias=True)\n",
       "  (fc3): Linear(in_features=64, out_features=32, bias=True)\n",
       "  (fc4): Linear(in_features=32, out_features=10, bias=True)\n",
       ")"
      ]
     },
     "execution_count": 9,
     "metadata": {},
     "output_type": "execute_result"
    }
   ],
   "source": [
    "ipsModel = SimpleNN().to(device)\n",
    "ipsOptimizer = IPS(ipsModel.parameters(), T=epochs * int(len(trainset) / batch_size), lower_bound=0)\n",
    "train(ipsModel, ipsOptimizer, epochs=epochs)"
   ]
  },
  {
   "cell_type": "code",
   "execution_count": 10,
   "metadata": {},
   "outputs": [
    {
     "name": "stdout",
     "output_type": "stream",
     "text": [
      "Adam (\n",
      "Parameter Group 0\n",
      "    amsgrad: False\n",
      "    betas: (0.9, 0.999)\n",
      "    capturable: False\n",
      "    differentiable: False\n",
      "    eps: 1e-08\n",
      "    foreach: None\n",
      "    fused: None\n",
      "    lr: 0.001\n",
      "    maximize: False\n",
      "    weight_decay: 0\n",
      ")\n",
      "Epoch 1, Step 0, Loss: 2.321051597595215\n",
      "Epoch 1, Step 100, Loss: 0.436744749546051\n",
      "Epoch 1, Step 200, Loss: 0.29960402846336365\n",
      "Epoch 1, Step 300, Loss: 0.13205420970916748\n",
      "Epoch 1, Step 400, Loss: 0.1954398900270462\n",
      "Epoch 1, Step 500, Loss: 0.36049118638038635\n",
      "Epoch 1, Step 600, Loss: 0.2657601535320282\n",
      "Epoch 1, Step 700, Loss: 0.16899433732032776\n",
      "Epoch 1, Step 800, Loss: 0.058325644582509995\n",
      "Epoch 1, Step 900, Loss: 0.22491861879825592\n",
      "Epoch 2, Step 0, Loss: 0.09615840017795563\n",
      "Epoch 2, Step 100, Loss: 0.055411528795957565\n",
      "Epoch 2, Step 200, Loss: 0.12136516720056534\n",
      "Epoch 2, Step 300, Loss: 0.16793832182884216\n",
      "Epoch 2, Step 400, Loss: 0.1061418205499649\n",
      "Epoch 2, Step 500, Loss: 0.09642881900072098\n",
      "Epoch 2, Step 600, Loss: 0.04604821279644966\n",
      "Epoch 2, Step 700, Loss: 0.1490112692117691\n",
      "Epoch 2, Step 800, Loss: 0.10789985954761505\n",
      "Epoch 2, Step 900, Loss: 0.09446181356906891\n",
      "Epoch 3, Step 0, Loss: 0.05594264715909958\n",
      "Epoch 3, Step 100, Loss: 0.036995284259319305\n",
      "Epoch 3, Step 200, Loss: 0.09164734184741974\n",
      "Epoch 3, Step 300, Loss: 0.036430101841688156\n",
      "Epoch 3, Step 400, Loss: 0.05514999106526375\n",
      "Epoch 3, Step 500, Loss: 0.15215334296226501\n",
      "Epoch 3, Step 600, Loss: 0.06718534976243973\n",
      "Epoch 3, Step 700, Loss: 0.08237127214670181\n",
      "Epoch 3, Step 800, Loss: 0.08618243783712387\n",
      "Epoch 3, Step 900, Loss: 0.01752752810716629\n",
      "Epoch 4, Step 0, Loss: 0.06466303020715714\n",
      "Epoch 4, Step 100, Loss: 0.06225961074233055\n",
      "Epoch 4, Step 200, Loss: 0.12840193510055542\n",
      "Epoch 4, Step 300, Loss: 0.006926797796040773\n",
      "Epoch 4, Step 400, Loss: 0.03805308789014816\n",
      "Epoch 4, Step 500, Loss: 0.018023667857050896\n",
      "Epoch 4, Step 600, Loss: 0.09085164964199066\n",
      "Epoch 4, Step 700, Loss: 0.07469034194946289\n",
      "Epoch 4, Step 800, Loss: 0.04793384671211243\n",
      "Epoch 4, Step 900, Loss: 0.014258314855396748\n",
      "Epoch 5, Step 0, Loss: 0.05997582525014877\n",
      "Epoch 5, Step 100, Loss: 0.049302976578474045\n",
      "Epoch 5, Step 200, Loss: 0.11121916770935059\n",
      "Epoch 5, Step 300, Loss: 0.024336673319339752\n",
      "Epoch 5, Step 400, Loss: 0.011730387806892395\n",
      "Epoch 5, Step 500, Loss: 0.007864967919886112\n",
      "Epoch 5, Step 600, Loss: 0.012599694542586803\n",
      "Epoch 5, Step 700, Loss: 0.014497390016913414\n",
      "Epoch 5, Step 800, Loss: 0.05010616406798363\n",
      "Epoch 5, Step 900, Loss: 0.08113724738359451\n",
      "Training complete.\n"
     ]
    },
    {
     "data": {
      "text/plain": [
       "SimpleNN(\n",
       "  (fc1): Linear(in_features=784, out_features=128, bias=True)\n",
       "  (fc2): Linear(in_features=128, out_features=64, bias=True)\n",
       "  (fc3): Linear(in_features=64, out_features=32, bias=True)\n",
       "  (fc4): Linear(in_features=32, out_features=10, bias=True)\n",
       ")"
      ]
     },
     "execution_count": 10,
     "metadata": {},
     "output_type": "execute_result"
    }
   ],
   "source": [
    "adamModel = SimpleNN().to(device)\n",
    "adamOptimizer = torch.optim.Adam(adamModel.parameters(), lr=1e-3)\n",
    "train(adamModel, adamOptimizer, epochs=epochs)\n"
   ]
  },
  {
   "cell_type": "code",
   "execution_count": 18,
   "metadata": {},
   "outputs": [
    {
     "name": "stdout",
     "output_type": "stream",
     "text": [
      "IPS (\n",
      "Parameter Group 0\n",
      "    T: 1875.0\n",
      "    lower_bound: 0\n",
      "    step_decay: True\n",
      ")\n",
      "Epoch 1, Step 0, Loss: 2.3061623573303223\n",
      "Epoch 1, Step 100, Loss: 0.5522843599319458\n",
      "Epoch 1, Step 200, Loss: 0.37351855635643005\n",
      "Epoch 1, Step 300, Loss: 0.4963723421096802\n",
      "Epoch 1, Step 400, Loss: 0.33562594652175903\n",
      "Epoch 1, Step 500, Loss: 0.19106663763523102\n",
      "Epoch 1, Step 600, Loss: 0.21730047464370728\n",
      "Epoch 1, Step 700, Loss: 0.2046099752187729\n",
      "Epoch 1, Step 800, Loss: 0.2890491783618927\n",
      "Epoch 1, Step 900, Loss: 0.2094632089138031\n",
      "Epoch 2, Step 0, Loss: 0.1287676841020584\n",
      "Epoch 2, Step 100, Loss: 0.174358531832695\n",
      "Epoch 2, Step 200, Loss: 0.35581108927726746\n",
      "Epoch 2, Step 300, Loss: 0.11733653396368027\n",
      "Epoch 2, Step 400, Loss: 0.1929231882095337\n",
      "Epoch 2, Step 500, Loss: 0.4464591443538666\n",
      "Epoch 2, Step 600, Loss: 0.2623788118362427\n",
      "Epoch 2, Step 700, Loss: 0.2044697403907776\n",
      "Epoch 2, Step 800, Loss: 0.3809717893600464\n",
      "Epoch 2, Step 900, Loss: 0.17737676203250885\n",
      "Epoch 3, Step 0, Loss: 0.08246394991874695\n",
      "Epoch 3, Step 100, Loss: 0.08776608109474182\n",
      "Epoch 3, Step 200, Loss: 0.2681575119495392\n",
      "Epoch 3, Step 300, Loss: 0.15700668096542358\n",
      "Epoch 3, Step 400, Loss: 0.19119442999362946\n",
      "Epoch 3, Step 500, Loss: 0.1290808916091919\n",
      "Epoch 3, Step 600, Loss: 0.04729421064257622\n",
      "Epoch 3, Step 700, Loss: 0.1324809044599533\n",
      "Epoch 3, Step 800, Loss: 0.17346692085266113\n",
      "Epoch 3, Step 900, Loss: 0.2256576120853424\n",
      "Epoch 4, Step 0, Loss: 0.21391719579696655\n",
      "Epoch 4, Step 100, Loss: 0.3034476637840271\n",
      "Epoch 4, Step 200, Loss: 0.17313340306282043\n",
      "Epoch 4, Step 300, Loss: 0.19151213765144348\n",
      "Epoch 4, Step 400, Loss: 0.2311726063489914\n",
      "Epoch 4, Step 500, Loss: 0.18843427300453186\n",
      "Epoch 4, Step 600, Loss: 0.06094878166913986\n",
      "Epoch 4, Step 700, Loss: 0.2729527950286865\n",
      "Epoch 4, Step 800, Loss: 0.10607405006885529\n",
      "Epoch 4, Step 900, Loss: 0.1031809002161026\n",
      "Epoch 5, Step 0, Loss: 0.12677708268165588\n",
      "Epoch 5, Step 100, Loss: 0.3143632709980011\n",
      "Epoch 5, Step 200, Loss: 0.05370733141899109\n",
      "Epoch 5, Step 300, Loss: 0.06105877086520195\n",
      "Epoch 5, Step 400, Loss: 0.11614980548620224\n",
      "Epoch 5, Step 500, Loss: 0.09228524565696716\n",
      "Epoch 5, Step 600, Loss: 0.04217875003814697\n",
      "Epoch 5, Step 700, Loss: 0.019627315923571587\n",
      "Epoch 5, Step 800, Loss: 0.2865373492240906\n",
      "Epoch 5, Step 900, Loss: 0.13972029089927673\n",
      "Training complete.\n"
     ]
    },
    {
     "data": {
      "text/plain": [
       "SimpleNN(\n",
       "  (fc1): Linear(in_features=784, out_features=128, bias=True)\n",
       "  (fc2): Linear(in_features=128, out_features=64, bias=True)\n",
       "  (fc3): Linear(in_features=64, out_features=32, bias=True)\n",
       "  (fc4): Linear(in_features=32, out_features=10, bias=True)\n",
       ")"
      ]
     },
     "execution_count": 18,
     "metadata": {},
     "output_type": "execute_result"
    }
   ],
   "source": [
    "ipsDecayModel = SimpleNN().to(device)\n",
    "ipsDecayOptimizer = IPS(ipsDecayModel.parameters(), T=2 * len(trainset) / 64, lower_bound=0, step_decay=True, initial_decay=0)\n",
    "train(ipsDecayModel, ipsDecayOptimizer, epochs=epochs)\n"
   ]
  },
  {
   "cell_type": "code",
   "execution_count": 21,
   "metadata": {},
   "outputs": [
    {
     "name": "stdout",
     "output_type": "stream",
     "text": [
      "RMSprop (\n",
      "Parameter Group 0\n",
      "    alpha: 0.99\n",
      "    capturable: False\n",
      "    centered: False\n",
      "    differentiable: False\n",
      "    eps: 1e-08\n",
      "    foreach: None\n",
      "    lr: 0.001\n",
      "    maximize: False\n",
      "    momentum: 0\n",
      "    weight_decay: 0\n",
      ")\n",
      "Epoch 1, Step 0, Loss: 2.3016605377197266\n",
      "Epoch 1, Step 100, Loss: 0.32464712858200073\n",
      "Epoch 1, Step 200, Loss: 0.23245663940906525\n",
      "Epoch 1, Step 300, Loss: 0.29905301332473755\n",
      "Epoch 1, Step 400, Loss: 0.37004825472831726\n",
      "Epoch 1, Step 500, Loss: 0.4054940342903137\n",
      "Epoch 1, Step 600, Loss: 0.24419616162776947\n",
      "Epoch 1, Step 700, Loss: 0.2623121440410614\n",
      "Epoch 1, Step 800, Loss: 0.10970036685466766\n",
      "Epoch 1, Step 900, Loss: 0.05765923485159874\n",
      "Epoch 2, Step 0, Loss: 0.09739947319030762\n",
      "Epoch 2, Step 100, Loss: 0.07485697418451309\n",
      "Epoch 2, Step 200, Loss: 0.029103916138410568\n",
      "Epoch 2, Step 300, Loss: 0.053781043738126755\n",
      "Epoch 2, Step 400, Loss: 0.09749265760183334\n",
      "Epoch 2, Step 500, Loss: 0.030050328001379967\n",
      "Epoch 2, Step 600, Loss: 0.09319556504487991\n",
      "Epoch 2, Step 700, Loss: 0.016797417774796486\n",
      "Epoch 2, Step 800, Loss: 0.04180748760700226\n",
      "Epoch 2, Step 900, Loss: 0.13998211920261383\n",
      "Epoch 3, Step 0, Loss: 0.04272489994764328\n",
      "Epoch 3, Step 100, Loss: 0.06493379920721054\n",
      "Epoch 3, Step 200, Loss: 0.11003721505403519\n",
      "Epoch 3, Step 300, Loss: 0.08640598505735397\n",
      "Epoch 3, Step 400, Loss: 0.04030434042215347\n",
      "Epoch 3, Step 500, Loss: 0.016467899084091187\n",
      "Epoch 3, Step 600, Loss: 0.10875032842159271\n",
      "Epoch 3, Step 700, Loss: 0.28138524293899536\n",
      "Epoch 3, Step 800, Loss: 0.11557760089635849\n",
      "Epoch 3, Step 900, Loss: 0.1507960706949234\n",
      "Epoch 4, Step 0, Loss: 0.17264069616794586\n",
      "Epoch 4, Step 100, Loss: 0.0177557785063982\n",
      "Epoch 4, Step 200, Loss: 0.03084317408502102\n",
      "Epoch 4, Step 300, Loss: 0.034351933747529984\n",
      "Epoch 4, Step 400, Loss: 0.0041221571154892445\n",
      "Epoch 4, Step 500, Loss: 0.09623266756534576\n",
      "Epoch 4, Step 600, Loss: 0.06652665138244629\n",
      "Epoch 4, Step 700, Loss: 0.29645273089408875\n",
      "Epoch 4, Step 800, Loss: 0.23940753936767578\n",
      "Epoch 4, Step 900, Loss: 0.04690631851553917\n",
      "Epoch 5, Step 0, Loss: 0.12741845846176147\n",
      "Epoch 5, Step 100, Loss: 0.01885787397623062\n",
      "Epoch 5, Step 200, Loss: 0.003119163913652301\n",
      "Epoch 5, Step 300, Loss: 0.10744136571884155\n",
      "Epoch 5, Step 400, Loss: 0.06372274458408356\n",
      "Epoch 5, Step 500, Loss: 0.03993266448378563\n",
      "Epoch 5, Step 600, Loss: 0.08256092667579651\n",
      "Epoch 5, Step 700, Loss: 0.42143940925598145\n",
      "Epoch 5, Step 800, Loss: 0.0031545201782137156\n",
      "Epoch 5, Step 900, Loss: 0.09536805003881454\n",
      "Training complete.\n"
     ]
    },
    {
     "data": {
      "text/plain": [
       "SimpleNN(\n",
       "  (fc1): Linear(in_features=784, out_features=128, bias=True)\n",
       "  (fc2): Linear(in_features=128, out_features=64, bias=True)\n",
       "  (fc3): Linear(in_features=64, out_features=32, bias=True)\n",
       "  (fc4): Linear(in_features=32, out_features=10, bias=True)\n",
       ")"
      ]
     },
     "execution_count": 21,
     "metadata": {},
     "output_type": "execute_result"
    }
   ],
   "source": [
    "rmsModel = SimpleNN().to(device)\n",
    "rmsOptimizer = torch.optim.RMSprop(rmsModel.parameters(), lr=1e-3, alpha=0.99, eps=1e-08)\n",
    "train(rmsModel, rmsOptimizer, epochs=epochs)"
   ]
  },
  {
   "cell_type": "code",
   "execution_count": 22,
   "metadata": {},
   "outputs": [
    {
     "name": "stdout",
     "output_type": "stream",
     "text": [
      "0.9708\n",
      "0.924\n",
      "0.9516\n",
      "0.9747\n"
     ]
    }
   ],
   "source": [
    "test(adamModel)\n",
    "test(ipsModel)\n",
    "test(ipsDecayModel)\n",
    "test(rmsModel)"
   ]
  },
  {
   "cell_type": "code",
   "execution_count": 24,
   "metadata": {},
   "outputs": [
    {
     "data": {
      "image/png": "[encoded data removed]",
      "text/plain": [
       "<Figure size 640x480 with 1 Axes>"
      ]
     },
     "metadata": {},
     "output_type": "display_data"
    }
   ],
   "source": [
    "models = [(adamModel, 'adam optimizer'), (ipsModel, 'ips optimizer'), (ipsDecayModel, 'ips decay optimizer'), (rmsModel, 'rmsprop optimizer')]\n",
    "focus = [ipsDecayModel, rmsModel]\n",
    "interval = 50\n",
    "for model in models:\n",
    "    plt.plot(\n",
    "        [i for i, loss in enumerate(model[0].losses) if i % interval == 0], \n",
    "        [loss for i, loss in enumerate(model[0].losses) if i % interval == 0], \n",
    "        label=model[1],\n",
    "        alpha=0.5 if model[0] not in focus else 1\n",
    "    )\n",
    "\n",
    "plt.legend()\n",
    "plt.show()"
   ]
  },
  {
   "cell_type": "code",
   "execution_count": 14,
   "metadata": {},
   "outputs": [
    {
     "data": {
      "text/plain": [
       "2.0010666666666665"
      ]
     },
     "execution_count": 14,
     "metadata": {},
     "output_type": "execute_result"
    }
   ],
   "source": [
    "(len(trainset) / 64) * 2\n",
    "ipsOptimizer.step_count\n",
    "1876/(len(trainset) / 64)"
   ]
  }
 ],
 "metadata": {
  "kernelspec": {
   "display_name": "Python 3",
   "language": "python",
   "name": "python3"
  },
  "language_info": {
   "codemirror_mode": {
    "name": "ipython",
    "version": 3
   },
   "file_extension": ".py",
   "mimetype": "text/x-python",
   "name": "python",
   "nbconvert_exporter": "python",
   "pygments_lexer": "ipython3",
   "version": "3.13.2"
  }
 },
 "nbformat": 4,
 "nbformat_minor": 2
}
